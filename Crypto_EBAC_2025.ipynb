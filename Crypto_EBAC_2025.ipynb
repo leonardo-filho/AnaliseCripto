{
  "nbformat": 4,
  "nbformat_minor": 0,
  "metadata": {
    "colab": {
      "provenance": []
    },
    "kernelspec": {
      "name": "python3",
      "display_name": "Python 3"
    },
    "language_info": {
      "name": "python"
    }
  },
  "cells": [
    {
      "cell_type": "markdown",
      "source": [
        "# Análise de Dados em Criptomoedas: Detecção de fraudes\n",
        "\n",
        "---\n",
        "\n",
        "\n",
        "\n",
        "**Professora:** Profa. Dra. Isadora Garcia Ferrão\n",
        "\n",
        "📧 isadoraferrao@usp.br\n",
        "\n",
        "🌐 [linkedin](https://www.linkedin.com/in/isadora-ferrao/)\n",
        "\n",
        "🔗 [Instagram](https://www.instagram.com/isadora.ferrao/)"
      ],
      "metadata": {
        "id": "7Z5cR_APN-Hn"
      }
    },
    {
      "cell_type": "markdown",
      "source": [
        "**Descrição dos Dados:** Os dados foram coletados de fontes públicas de monitoramento de carteiras e transações na rede Ethereum, como Etherscan, Dune Analytics e outras plataformas abertas. São dados reais e anonimizados, amplamente utilizados em estudos de detecção de fraude e análise de comportamento no mercado de criptomoedas. Cada linha representa uma carteira e suas métricas de atividade.\n",
        "\n",
        "**Objetivo:** Construir um modelo preditivo capaz de identificar, com base nas métricas de transações, quando uma carteira apresenta comportamento anômalo, caracterizando uma potencial fraude.\n",
        "\n"
      ],
      "metadata": {
        "id": "mn5kcs4BPMjW"
      }
    },
    {
      "cell_type": "markdown",
      "source": [
        "## **Análise exploratória**"
      ],
      "metadata": {
        "id": "C0B03FQzTPQa"
      }
    },
    {
      "cell_type": "code",
      "execution_count": null,
      "metadata": {
        "id": "NYBdK7lBPUqi"
      },
      "outputs": [],
      "source": [
        "# Importando bibliotecas necessárias\n"
      ]
    },
    {
      "cell_type": "code",
      "source": [
        "# Configuração básica dos gráficos\n"
      ],
      "metadata": {
        "id": "sVoE8weNS_xd"
      },
      "execution_count": null,
      "outputs": []
    },
    {
      "cell_type": "code",
      "source": [
        "# --- 1. Carregamento e limpeza dos dados ---\n"
      ],
      "metadata": {
        "id": "EFHZyoPrLMBR"
      },
      "execution_count": null,
      "outputs": []
    },
    {
      "cell_type": "code",
      "source": [
        "# Remover espaços em branco dos nomes das colunas\n"
      ],
      "metadata": {
        "id": "815MO7o2LQQz"
      },
      "execution_count": null,
      "outputs": []
    },
    {
      "cell_type": "code",
      "source": [
        "# Cria a coluna 'is_fraud' de forma direta:\n",
        "# 1 se 'Sent tnx' for maior que (média + 2 * desvio padrão), senão 0\n",
        "df[\"is_fraud\"] = (df[\"Sent tnx\"] > (df[\"Sent tnx\"].mean() + 2 * df[\"Sent tnx\"].std())).astype(int)"
      ],
      "metadata": {
        "id": "GVaSVKiCXiSm"
      },
      "execution_count": null,
      "outputs": []
    },
    {
      "cell_type": "code",
      "source": [
        "# Exibir informações iniciais para diagnóstico\n"
      ],
      "metadata": {
        "id": "I4T-3C7hTHeR"
      },
      "execution_count": null,
      "outputs": []
    },
    {
      "cell_type": "markdown",
      "source": [
        "## **Visualizando Correlações e Distribuições**"
      ],
      "metadata": {
        "id": "cV2G_CMHTbUC"
      }
    },
    {
      "cell_type": "code",
      "source": [
        "# Defina as colunas relevantes para a correlação\n"
      ],
      "metadata": {
        "id": "GjHUjWI-LWo7"
      },
      "execution_count": null,
      "outputs": []
    },
    {
      "cell_type": "code",
      "source": [
        "# Histogramas para visualizar a distribuição de 'Sent tnx'\n",
        "plt.figure(figsize=(10, 6))\n",
        "sns.histplot(df[\"Sent tnx\"], bins=30, kde=True)\n",
        "plt.xlabel(\"Sent tnx\")\n",
        "plt.title(\"Distribuição de 'Sent tnx'\")\n",
        "plt.show()\n",
        "\n"
      ],
      "metadata": {
        "id": "8Z3LIqVvLYvA"
      },
      "execution_count": null,
      "outputs": []
    },
    {
      "cell_type": "code",
      "source": [
        "# Boxplot para identificar outliers em 'ERC20 avg val sent'\n",
        "plt.figure(figsize=(8, 6))\n",
        "sns.boxplot(x=df[\"ERC20 avg val sent\"])\n",
        "plt.xlabel(\"ERC20 avg val sent\")\n",
        "plt.title(\"Boxplot de 'ERC20 avg val sent'\")\n",
        "plt.show()\n"
      ],
      "metadata": {
        "id": "tYuTK27vTlfI"
      },
      "execution_count": null,
      "outputs": []
    },
    {
      "cell_type": "markdown",
      "source": [
        "## **BASELINE**"
      ],
      "metadata": {
        "id": "dtfOKbAJTpFG"
      }
    },
    {
      "cell_type": "code",
      "source": [
        "# Calcular média e desvio padrão para 'Sent tnx'\n"
      ],
      "metadata": {
        "id": "gkfHwuwVUhAk"
      },
      "execution_count": null,
      "outputs": []
    },
    {
      "cell_type": "code",
      "source": [
        "# Marcar como anomalia as transações com 'Sent tnx' acima do threshold\n"
      ],
      "metadata": {
        "id": "VoEJ9R7gW8dj"
      },
      "execution_count": null,
      "outputs": []
    },
    {
      "cell_type": "code",
      "source": [
        "# Exibir histograma com o threshold\n",
        "\n"
      ],
      "metadata": {
        "id": "t2l2afMzMlGq"
      },
      "execution_count": null,
      "outputs": []
    },
    {
      "cell_type": "code",
      "source": [],
      "metadata": {
        "id": "iw68pmE3LjhS"
      },
      "execution_count": null,
      "outputs": []
    },
    {
      "cell_type": "code",
      "source": [
        "# Método Baseline:"
      ],
      "metadata": {
        "id": "3kfaPa0yVq3E"
      },
      "execution_count": null,
      "outputs": []
    },
    {
      "cell_type": "code",
      "source": [],
      "metadata": {
        "id": "XQpfWIYNaISA"
      },
      "execution_count": null,
      "outputs": []
    },
    {
      "cell_type": "markdown",
      "source": [
        "## **AULA 2 :)**"
      ],
      "metadata": {
        "id": "pWiuBiWGdPkb"
      }
    }
  ]
}