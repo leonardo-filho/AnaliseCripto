{
  "cells": [
    {
      "cell_type": "markdown",
      "metadata": {
        "id": "7Z5cR_APN-Hn"
      },
      "source": [
        "# Análise de Dados em Criptomoedas: Detecção de fraudes\n",
        "\n",
        "---\n",
        "\n",
        "\n",
        "\n",
        "**Professora:** Profa. Dra. Isadora Garcia Ferrão\n",
        "\n",
        "📧 isadoraferrao@usp.br\n",
        "\n",
        "🌐 [linkedin](https://www.linkedin.com/in/isadora-ferrao/)\n",
        "\n",
        "🔗 [Instagram](https://www.instagram.com/isadora.ferrao/)"
      ]
    },
    {
      "cell_type": "markdown",
      "metadata": {
        "id": "mn5kcs4BPMjW"
      },
      "source": [
        "**Descrição dos Dados:** Os dados foram coletados de fontes públicas de monitoramento de carteiras e transações na rede Ethereum, como Etherscan, Dune Analytics e outras plataformas abertas. São dados reais e anonimizados, amplamente utilizados em estudos de detecção de fraude e análise de comportamento no mercado de criptomoedas. Cada linha representa uma carteira e suas métricas de atividade.\n",
        "\n",
        "**Objetivo:** Construir um modelo preditivo capaz de identificar, com base nas métricas de transações, quando uma carteira apresenta comportamento anômalo, caracterizando uma potencial fraude.\n",
        "\n"
      ]
    },
    {
      "cell_type": "markdown",
      "metadata": {
        "id": "C0B03FQzTPQa"
      },
      "source": [
        "## **Análise exploratória**"
      ]
    },
    {
      "cell_type": "code",
      "execution_count": 10,
      "metadata": {},
      "outputs": [
        {
          "name": "stdout",
          "output_type": "stream",
          "text": [
            "Requirement already satisfied: pandas in c:\\users\\leron\\appdata\\local\\programs\\python\\python311\\lib\\site-packages (2.2.3)\n",
            "Requirement already satisfied: numpy in c:\\users\\leron\\appdata\\local\\programs\\python\\python311\\lib\\site-packages (2.2.4)\n",
            "Collecting matplotlib\n",
            "  Downloading matplotlib-3.10.1-cp311-cp311-win_amd64.whl.metadata (11 kB)\n",
            "Collecting seaborn\n",
            "  Using cached seaborn-0.13.2-py3-none-any.whl.metadata (5.4 kB)\n",
            "Collecting scikit-learn\n",
            "  Downloading scikit_learn-1.6.1-cp311-cp311-win_amd64.whl.metadata (15 kB)\n",
            "Requirement already satisfied: python-dateutil>=2.8.2 in c:\\users\\leron\\appdata\\roaming\\python\\python311\\site-packages (from pandas) (2.9.0.post0)\n",
            "Requirement already satisfied: pytz>=2020.1 in c:\\users\\leron\\appdata\\local\\programs\\python\\python311\\lib\\site-packages (from pandas) (2025.2)\n",
            "Requirement already satisfied: tzdata>=2022.7 in c:\\users\\leron\\appdata\\local\\programs\\python\\python311\\lib\\site-packages (from pandas) (2025.2)\n",
            "Collecting contourpy>=1.0.1 (from matplotlib)\n",
            "  Downloading contourpy-1.3.2-cp311-cp311-win_amd64.whl.metadata (5.5 kB)\n",
            "Collecting cycler>=0.10 (from matplotlib)\n",
            "  Using cached cycler-0.12.1-py3-none-any.whl.metadata (3.8 kB)\n",
            "Collecting fonttools>=4.22.0 (from matplotlib)\n",
            "  Downloading fonttools-4.57.0-cp311-cp311-win_amd64.whl.metadata (104 kB)\n",
            "Collecting kiwisolver>=1.3.1 (from matplotlib)\n",
            "  Downloading kiwisolver-1.4.8-cp311-cp311-win_amd64.whl.metadata (6.3 kB)\n",
            "Requirement already satisfied: packaging>=20.0 in c:\\users\\leron\\appdata\\roaming\\python\\python311\\site-packages (from matplotlib) (24.2)\n",
            "Collecting pillow>=8 (from matplotlib)\n",
            "  Downloading pillow-11.2.1-cp311-cp311-win_amd64.whl.metadata (9.1 kB)\n",
            "Collecting pyparsing>=2.3.1 (from matplotlib)\n",
            "  Using cached pyparsing-3.2.3-py3-none-any.whl.metadata (5.0 kB)\n",
            "Collecting scipy>=1.6.0 (from scikit-learn)\n",
            "  Downloading scipy-1.15.2-cp311-cp311-win_amd64.whl.metadata (60 kB)\n",
            "Collecting joblib>=1.2.0 (from scikit-learn)\n",
            "  Using cached joblib-1.4.2-py3-none-any.whl.metadata (5.4 kB)\n",
            "Collecting threadpoolctl>=3.1.0 (from scikit-learn)\n",
            "  Using cached threadpoolctl-3.6.0-py3-none-any.whl.metadata (13 kB)\n",
            "Requirement already satisfied: six>=1.5 in c:\\users\\leron\\appdata\\roaming\\python\\python311\\site-packages (from python-dateutil>=2.8.2->pandas) (1.17.0)\n",
            "Downloading matplotlib-3.10.1-cp311-cp311-win_amd64.whl (8.1 MB)\n",
            "   ---------------------------------------- 0.0/8.1 MB ? eta -:--:--\n",
            "   --------------- ------------------------ 3.1/8.1 MB 18.5 MB/s eta 0:00:01\n",
            "   ---------------------------------------- 8.1/8.1 MB 22.7 MB/s eta 0:00:00\n",
            "Using cached seaborn-0.13.2-py3-none-any.whl (294 kB)\n",
            "Downloading scikit_learn-1.6.1-cp311-cp311-win_amd64.whl (11.1 MB)\n",
            "   ---------------------------------------- 0.0/11.1 MB ? eta -:--:--\n",
            "   ---------------------------- ----------- 7.9/11.1 MB 40.4 MB/s eta 0:00:01\n",
            "   ---------------------------------------- 11.1/11.1 MB 29.0 MB/s eta 0:00:00\n",
            "Downloading contourpy-1.3.2-cp311-cp311-win_amd64.whl (222 kB)\n",
            "Using cached cycler-0.12.1-py3-none-any.whl (8.3 kB)\n",
            "Downloading fonttools-4.57.0-cp311-cp311-win_amd64.whl (2.2 MB)\n",
            "   ---------------------------------------- 0.0/2.2 MB ? eta -:--:--\n",
            "   ---------------------------------------- 2.2/2.2 MB 41.3 MB/s eta 0:00:00\n",
            "Using cached joblib-1.4.2-py3-none-any.whl (301 kB)\n",
            "Downloading kiwisolver-1.4.8-cp311-cp311-win_amd64.whl (71 kB)\n",
            "Downloading pillow-11.2.1-cp311-cp311-win_amd64.whl (2.7 MB)\n",
            "   ---------------------------------------- 0.0/2.7 MB ? eta -:--:--\n",
            "   ---------------------------------------- 2.7/2.7 MB 52.5 MB/s eta 0:00:00\n",
            "Using cached pyparsing-3.2.3-py3-none-any.whl (111 kB)\n",
            "Downloading scipy-1.15.2-cp311-cp311-win_amd64.whl (41.2 MB)\n",
            "   ---------------------------------------- 0.0/41.2 MB ? eta -:--:--\n",
            "   ------------ --------------------------- 12.6/41.2 MB 60.7 MB/s eta 0:00:01\n",
            "   --------------------------- ------------ 28.8/41.2 MB 70.2 MB/s eta 0:00:01\n",
            "   ---------------------------------------  41.2/41.2 MB 74.8 MB/s eta 0:00:01\n",
            "   ---------------------------------------- 41.2/41.2 MB 57.0 MB/s eta 0:00:00\n",
            "Using cached threadpoolctl-3.6.0-py3-none-any.whl (18 kB)\n",
            "Installing collected packages: threadpoolctl, scipy, pyparsing, pillow, kiwisolver, joblib, fonttools, cycler, contourpy, scikit-learn, matplotlib, seaborn\n",
            "Successfully installed contourpy-1.3.2 cycler-0.12.1 fonttools-4.57.0 joblib-1.4.2 kiwisolver-1.4.8 matplotlib-3.10.1 pillow-11.2.1 pyparsing-3.2.3 scikit-learn-1.6.1 scipy-1.15.2 seaborn-0.13.2 threadpoolctl-3.6.0\n"
          ]
        },
        {
          "name": "stderr",
          "output_type": "stream",
          "text": [
            "  WARNING: The scripts fonttools.exe, pyftmerge.exe, pyftsubset.exe and ttx.exe are installed in 'c:\\Users\\leron\\AppData\\Local\\Programs\\Python\\Python311\\Scripts' which is not on PATH.\n",
            "  Consider adding this directory to PATH or, if you prefer to suppress this warning, use --no-warn-script-location.\n"
          ]
        }
      ],
      "source": [
        "!python -m pip install pandas numpy matplotlib seaborn scikit-learn\n"
      ]
    },
    {
      "cell_type": "code",
      "execution_count": 11,
      "metadata": {
        "id": "NYBdK7lBPUqi"
      },
      "outputs": [],
      "source": [
        "# Importando bibliotecas necessárias\n",
        "import pandas as pd\n",
        "import numpy as np\n",
        "import matplotlib as plt\n",
        "import seaborn as sns\n",
        "from sklearn.metrics import classification_report, confusion_matrix"
      ]
    },
    {
      "cell_type": "code",
      "execution_count": 12,
      "metadata": {
        "id": "sVoE8weNS_xd"
      },
      "outputs": [],
      "source": [
        "# Configuração básica dos gráficos\n",
        "plt.style.use('default')"
      ]
    },
    {
      "cell_type": "code",
      "execution_count": 16,
      "metadata": {
        "id": "EFHZyoPrLMBR"
      },
      "outputs": [],
      "source": [
        "# --- 1. Carregamento e limpeza dos dados ---\n",
        "df = pd.read_csv('ethereum_transactions.csv.csv')"
      ]
    },
    {
      "cell_type": "code",
      "execution_count": 17,
      "metadata": {
        "id": "815MO7o2LQQz"
      },
      "outputs": [],
      "source": [
        "# Remover espaços em branco dos nomes das colunas\n",
        "df.columns = df.columns.str.strip()"
      ]
    },
    {
      "cell_type": "code",
      "execution_count": null,
      "metadata": {
        "id": "GVaSVKiCXiSm"
      },
      "outputs": [],
      "source": [
        "# Cria a coluna 'is_fraud' de forma direta:\n",
        "# 1 se 'Sent tnx' for maior que (média + 2 * desvio padrão), senão 0\n",
        "df[\"is_fraud\"] = (df[\"Sent tnx\"] > (df[\"Sent tnx\"].mean() + 2 * df[\"Sent tnx\"].std())).astype(int)"
      ]
    },
    {
      "cell_type": "code",
      "execution_count": null,
      "metadata": {
        "id": "I4T-3C7hTHeR"
      },
      "outputs": [],
      "source": [
        "# Exibir informações iniciais para diagnóstico\n"
      ]
    },
    {
      "cell_type": "markdown",
      "metadata": {
        "id": "cV2G_CMHTbUC"
      },
      "source": [
        "## **Visualizando Correlações e Distribuições**"
      ]
    },
    {
      "cell_type": "code",
      "execution_count": null,
      "metadata": {
        "id": "GjHUjWI-LWo7"
      },
      "outputs": [],
      "source": [
        "# Defina as colunas relevantes para a correlação\n"
      ]
    },
    {
      "cell_type": "code",
      "execution_count": null,
      "metadata": {
        "id": "8Z3LIqVvLYvA"
      },
      "outputs": [],
      "source": [
        "# Histogramas para visualizar a distribuição de 'Sent tnx'\n",
        "plt.figure(figsize=(10, 6))\n",
        "sns.histplot(df[\"Sent tnx\"], bins=30, kde=True)\n",
        "plt.xlabel(\"Sent tnx\")\n",
        "plt.title(\"Distribuição de 'Sent tnx'\")\n",
        "plt.show()\n",
        "\n"
      ]
    },
    {
      "cell_type": "code",
      "execution_count": null,
      "metadata": {
        "id": "tYuTK27vTlfI"
      },
      "outputs": [],
      "source": [
        "# Boxplot para identificar outliers em 'ERC20 avg val sent'\n",
        "plt.figure(figsize=(8, 6))\n",
        "sns.boxplot(x=df[\"ERC20 avg val sent\"])\n",
        "plt.xlabel(\"ERC20 avg val sent\")\n",
        "plt.title(\"Boxplot de 'ERC20 avg val sent'\")\n",
        "plt.show()\n"
      ]
    },
    {
      "cell_type": "markdown",
      "metadata": {
        "id": "dtfOKbAJTpFG"
      },
      "source": [
        "## **BASELINE**"
      ]
    },
    {
      "cell_type": "code",
      "execution_count": null,
      "metadata": {
        "id": "gkfHwuwVUhAk"
      },
      "outputs": [],
      "source": [
        "# Calcular média e desvio padrão para 'Sent tnx'\n"
      ]
    },
    {
      "cell_type": "code",
      "execution_count": null,
      "metadata": {
        "id": "VoEJ9R7gW8dj"
      },
      "outputs": [],
      "source": [
        "# Marcar como anomalia as transações com 'Sent tnx' acima do threshold\n"
      ]
    },
    {
      "cell_type": "code",
      "execution_count": null,
      "metadata": {
        "id": "t2l2afMzMlGq"
      },
      "outputs": [],
      "source": [
        "# Exibir histograma com o threshold\n",
        "\n"
      ]
    },
    {
      "cell_type": "code",
      "execution_count": null,
      "metadata": {
        "id": "iw68pmE3LjhS"
      },
      "outputs": [],
      "source": []
    },
    {
      "cell_type": "code",
      "execution_count": null,
      "metadata": {
        "id": "3kfaPa0yVq3E"
      },
      "outputs": [],
      "source": [
        "# Método Baseline:"
      ]
    },
    {
      "cell_type": "code",
      "execution_count": null,
      "metadata": {
        "id": "XQpfWIYNaISA"
      },
      "outputs": [],
      "source": []
    },
    {
      "cell_type": "markdown",
      "metadata": {
        "id": "pWiuBiWGdPkb"
      },
      "source": [
        "## **AULA 2 :)**"
      ]
    }
  ],
  "metadata": {
    "colab": {
      "provenance": []
    },
    "kernelspec": {
      "display_name": "Python 3",
      "name": "python3"
    },
    "language_info": {
      "codemirror_mode": {
        "name": "ipython",
        "version": 3
      },
      "file_extension": ".py",
      "mimetype": "text/x-python",
      "name": "python",
      "nbconvert_exporter": "python",
      "pygments_lexer": "ipython3",
      "version": "3.11.8"
    }
  },
  "nbformat": 4,
  "nbformat_minor": 0
}
